{
 "cells": [
  {
   "cell_type": "markdown",
   "metadata": {},
   "source": [
    "# Basic of Tensorflow"
   ]
  },
  {
   "cell_type": "markdown",
   "metadata": {},
   "source": [
    "텐서플로우 기본"
   ]
  },
  {
   "cell_type": "code",
   "execution_count": 2,
   "metadata": {},
   "outputs": [],
   "source": [
    "import tensorflow as tf"
   ]
  },
  {
   "cell_type": "markdown",
   "metadata": {},
   "source": [
    "## Constant(상수형)\n",
    "상수를 저장하는 자료형이다. <br>\n",
    "tf.constant(value, dtype=None, shape=None, name='Const', verify_shape=False) <br>"
   ]
  },
  {
   "cell_type": "markdown",
   "metadata": {},
   "source": [
    "### -Args\n",
    "value: 상수값, list, tuple 둘 다 사용가능 <br>\n",
    "dtype: 데이터 타입(정밀도)를 이야기하는데 float32, int32와 같은 형태를 이야기한다. <br>\n",
    "shape: 결과로 나올 상수의 차원을 이야기한다. <br>\n",
    "name: 이 상수의 이름을 이야기한다. 지정하지 않아도 자동으로 이름이 정해지지만 나중에 재사용의 목적으로 이름을 지정한다. <br>\n",
    "verify_shape: boolean값이 들어가며 실제 데이터와 shape에서 지정한 차원이 맞는지 검증할지 정한다."
   ]
  },
  {
   "cell_type": "markdown",
   "metadata": {},
   "source": [
    "### -Example"
   ]
  },
  {
   "cell_type": "code",
   "execution_count": 3,
   "metadata": {},
   "outputs": [],
   "source": [
    "tensor_1 = tf.constant(value=[1], dtype=tf.int32, shape=[1])\n",
    "tensor_2 = tf.constant(value=7, dtype=tf.int32, shape=[3, 2])"
   ]
  },
  {
   "cell_type": "code",
   "execution_count": 7,
   "metadata": {},
   "outputs": [
    {
     "data": {
      "text/plain": [
       "array([1])"
      ]
     },
     "execution_count": 7,
     "metadata": {},
     "output_type": "execute_result"
    }
   ],
   "source": [
    "tf.Session().run(tensor_1)"
   ]
  },
  {
   "cell_type": "code",
   "execution_count": 8,
   "metadata": {},
   "outputs": [
    {
     "data": {
      "text/plain": [
       "array([[7, 7],\n",
       "       [7, 7],\n",
       "       [7, 7]])"
      ]
     },
     "execution_count": 8,
     "metadata": {},
     "output_type": "execute_result"
    }
   ],
   "source": [
    "tf.Session().run(tensor_2)"
   ]
  },
  {
   "cell_type": "markdown",
   "metadata": {},
   "source": [
    "## Placeholder(플레이스홀더)\n",
    "텐서플로우는 placeholder라고 하는 오퍼레이션을 제공하는데 이는 세션을 실행할때 데이터를 feeding하는 역할을 한다. "
   ]
  },
  {
   "cell_type": "markdown",
   "metadata": {},
   "source": [
    "### -Args\n",
    "dtype: 입력될 텐서의 데이터 형을 지정 <br>\n",
    "shape: 입력될 텐서의 차원을 지정, 지정하지 않는다면 어떤 모양의 텐서도 feed 가능 <br>\n",
    "name: 이 오퍼레이션의 이름, 지정하지 않아도 상관없음"
   ]
  },
  {
   "cell_type": "code",
   "execution_count": null,
   "metadata": {},
   "outputs": [],
   "source": [
    "tf.placeholder()"
   ]
  }
 ],
 "metadata": {
  "kernelspec": {
   "display_name": "Python 3",
   "language": "python",
   "name": "python3"
  },
  "language_info": {
   "codemirror_mode": {
    "name": "ipython",
    "version": 3
   },
   "file_extension": ".py",
   "mimetype": "text/x-python",
   "name": "python",
   "nbconvert_exporter": "python",
   "pygments_lexer": "ipython3",
   "version": "3.6.4"
  }
 },
 "nbformat": 4,
 "nbformat_minor": 2
}
