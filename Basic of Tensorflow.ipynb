{
 "cells": [
  {
   "cell_type": "markdown",
   "metadata": {},
   "source": [
    "# Basic of Tensorflow"
   ]
  },
  {
   "cell_type": "markdown",
   "metadata": {},
   "source": [
    "텐서플로우 기본"
   ]
  },
  {
   "cell_type": "code",
   "execution_count": 23,
   "metadata": {},
   "outputs": [],
   "source": [
    "import tensorflow as tf"
   ]
  },
  {
   "cell_type": "markdown",
   "metadata": {},
   "source": [
    "## Constant(상수형)\n",
    "상수를 저장하는 자료형이다. <br>\n",
    "tf.constant(value, dtype=None, shape=None, name='Const', verify_shape=False) <br>\n",
    "value: 데이터, 상수값, list, tuple 둘 다 사용가능 <br>\n",
    "dtype: 데이터 타입(정밀도)를 이야기하는데 float32, int32와 같은 형태를 이야기한다. <br>\n",
    "shape: 상수의 차원을 이야기한다. <br>\n",
    "name: 이 상수의 이름을 이야기한다. 지정하지 않아도 자동으로 이름이 정해지지만 나중에 재사용의 목적으로 이름을 지정한다. <br>\n",
    "verify_shape: boolean값이 들어가며 실제 데이터와 shape에서 지정한 차원이 맞는지 검증할지 정한다."
   ]
  },
  {
   "cell_type": "code",
   "execution_count": 5,
   "metadata": {},
   "outputs": [
    {
     "data": {
      "text/plain": [
       "<tf.Tensor 'Const:0' shape=(1,) dtype=int32>"
      ]
     },
     "execution_count": 5,
     "metadata": {},
     "output_type": "execute_result"
    }
   ],
   "source": [
    "tf.constant([1], dtype=tf.int32, shape=[1])"
   ]
  },
  {
   "cell_type": "markdown",
   "metadata": {},
   "source": [
    "## Placeholder(플레이스홀더)"
   ]
  },
  {
   "cell_type": "code",
   "execution_count": null,
   "metadata": {},
   "outputs": [],
   "source": []
  }
 ],
 "metadata": {
  "kernelspec": {
   "display_name": "Python 3",
   "language": "python",
   "name": "python3"
  },
  "language_info": {
   "codemirror_mode": {
    "name": "ipython",
    "version": 3
   },
   "file_extension": ".py",
   "mimetype": "text/x-python",
   "name": "python",
   "nbconvert_exporter": "python",
   "pygments_lexer": "ipython3",
   "version": "3.6.4"
  }
 },
 "nbformat": 4,
 "nbformat_minor": 2
}
