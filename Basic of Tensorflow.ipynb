{
 "cells": [
  {
   "cell_type": "markdown",
   "metadata": {},
   "source": [
    "# Basic of Tensorflow"
   ]
  },
  {
   "cell_type": "markdown",
   "metadata": {},
   "source": [
    "텐서플로우 기초 <br>\n",
    "텐서플로우는 뉴럴네트워크에 최적화 되어있는 프레임워크이기 때문에 일반적 프로그래밍과 약간 다른부분이 있다. "
   ]
  },
  {
   "cell_type": "code",
   "execution_count": 15,
   "metadata": {},
   "outputs": [],
   "source": [
    "import tensorflow as tf\n",
    "import numpy as np"
   ]
  },
  {
   "cell_type": "markdown",
   "metadata": {},
   "source": [
    "## Constant(상수형)\n",
    "상수를 저장하는 자료형이다. <br>\n",
    "tf.constant(value, dtype=None, shape=None, name='Const', verify_shape=False) <br>"
   ]
  },
  {
   "cell_type": "markdown",
   "metadata": {},
   "source": [
    "### - Args\n",
    "value: 상수값, list, tuple 둘 다 사용가능 <br>\n",
    "dtype: 데이터 타입(정밀도)를 이야기하는데 float32, int32와 같은 형태를 이야기한다. <br>\n",
    "shape: 결과로 나올 상수의 차원을 이야기한다. <br>\n",
    "name: 이 상수의 이름을 이야기한다. 지정하지 않아도 자동으로 이름이 정해지지만 나중에 재사용의 목적으로 이름을 지정한다. <br>\n",
    "verify_shape: boolean값이 들어가며 실제 데이터와 shape에서 지정한 차원이 맞는지 검증할지 정한다."
   ]
  },
  {
   "cell_type": "markdown",
   "metadata": {},
   "source": [
    "### - For example"
   ]
  },
  {
   "cell_type": "code",
   "execution_count": 3,
   "metadata": {},
   "outputs": [],
   "source": [
    "tensor_1 = tf.constant(value=[1], dtype=tf.int32, shape=[1])\n",
    "tensor_2 = tf.constant(value=7, dtype=tf.int32, shape=[3, 2])"
   ]
  },
  {
   "cell_type": "code",
   "execution_count": 7,
   "metadata": {},
   "outputs": [
    {
     "data": {
      "text/plain": [
       "array([1])"
      ]
     },
     "execution_count": 7,
     "metadata": {},
     "output_type": "execute_result"
    }
   ],
   "source": [
    "tf.Session().run(tensor_1)"
   ]
  },
  {
   "cell_type": "code",
   "execution_count": 8,
   "metadata": {},
   "outputs": [
    {
     "data": {
      "text/plain": [
       "array([[7, 7],\n",
       "       [7, 7],\n",
       "       [7, 7]])"
      ]
     },
     "execution_count": 8,
     "metadata": {},
     "output_type": "execute_result"
    }
   ],
   "source": [
    "tf.Session().run(tensor_2)"
   ]
  },
  {
   "cell_type": "markdown",
   "metadata": {},
   "source": [
    "## Placeholder(플레이스홀더)\n",
    "텐서플로우는 placeholder라고 하는 오퍼레이션을 제공하는데 이는 세션을 실행할때 데이터를 feeding하는 역할을 한다. "
   ]
  },
  {
   "cell_type": "markdown",
   "metadata": {},
   "source": [
    "### - Args\n",
    "dtype: 입력될 텐서의 데이터 형을 지정 <br>\n",
    "shape: 입력될 텐서의 차원을 지정, 지정하지 않는다면 어떤 모양의 텐서도 feed 가능 <br>\n",
    "name: 이 오퍼레이션의 이름, 지정하지 않아도 상관없음"
   ]
  },
  {
   "cell_type": "markdown",
   "metadata": {},
   "source": [
    "### - For example"
   ]
  },
  {
   "cell_type": "code",
   "execution_count": 8,
   "metadata": {},
   "outputs": [
    {
     "data": {
      "text/plain": [
       "array([ 2, 16,  3,  0, 25])"
      ]
     },
     "execution_count": 8,
     "metadata": {},
     "output_type": "execute_result"
    }
   ],
   "source": [
    "data = [1, 2, 3, 4, 5]\n",
    "weight = [2, 8, 1, 0, 5]\n",
    "\n",
    "x = tf.placeholder(dtype=tf.int32)\n",
    "w = tf.placeholder(dtype=tf.int32)\n",
    "\n",
    "graph = tf.multiply(x, w)\n",
    "\n",
    "tf.Session().run(graph, feed_dict={x:data, w:weight})"
   ]
  },
  {
   "cell_type": "markdown",
   "metadata": {},
   "source": [
    "## Variable(변수형)\n",
    "매개변수(parameter)를 설정하고 업데이트 할때 위에서 언급한 상수형으로는 구현이 불가능하다. <br>\n",
    "그렇기 때문에 Variable을 사용한다. \n",
    "Variable은 반드시 명시적으로 초기화 시켜야하며 학습 후 디스크에 저장하여 언제든 불러올 수 있다. <br>\n",
    "모델의 최적 파라미터 설정값을 탐색하므로 반복할 때마다 변수를 수정하기 위한 경사법(gradient method)을 사용 할 수 있다. "
   ]
  },
  {
   "cell_type": "code",
   "execution_count": null,
   "metadata": {},
   "outputs": [],
   "source": [
    "tf.Variable()"
   ]
  },
  {
   "cell_type": "markdown",
   "metadata": {},
   "source": [
    "### - Args"
   ]
  },
  {
   "cell_type": "markdown",
   "metadata": {},
   "source": [
    "initial_value: 변수의 초기값, 텐서이거나 텐서로 변환가능한 파이썬 오브젝트면 가능 <br>\n",
    "trainable: 이 변수가 학습이 가능한지 알려주는 논리값, 디폴트는 True이며 optimizer로 학습이 가능<br>\n",
    "collections=None<br>\n",
    "validate_shape=True<br>\n",
    "caching_device=None<br>\n",
    "name=None<br>\n",
    "variable_def=None<br>\n",
    "dtype=None<br>\n",
    "expected_shape=None<br>\n",
    "import_scope=None"
   ]
  },
  {
   "cell_type": "markdown",
   "metadata": {},
   "source": [
    "initial_value: A `Tensor`, or Python object convertible to a `Tensor`,\n",
    "    which is the initial value for the Variable. The initial value must have\n",
    "    a shape specified unless `validate_shape` is set to False. Can also be a\n",
    "    callable with no argument that returns the initial value when called. In\n",
    "    that case, `dtype` must be specified. (Note that initializer functions\n",
    "    from init_ops.py must first be bound to a shape before being used here.)\n",
    "  trainable: If `True`, the default, also adds the variable to the graph\n",
    "    collection `GraphKeys.TRAINABLE_VARIABLES`. This collection is used as\n",
    "    the default list of variables to use by the `Optimizer` classes.\n",
    "  collections: List of graph collections keys. The new variable is added to\n",
    "    these collections. Defaults to `[GraphKeys.GLOBAL_VARIABLES]`.\n",
    "  validate_shape: If `False`, allows the variable to be initialized with a\n",
    "    value of unknown shape. If `True`, the default, the shape of\n",
    "    `initial_value` must be known.\n",
    "  caching_device: Optional device string describing where the Variable\n",
    "    should be cached for reading.  Defaults to the Variable's device.\n",
    "    If not `None`, caches on another device.  Typical use is to cache\n",
    "    on the device where the Ops using the Variable reside, to deduplicate\n",
    "    copying through `Switch` and other conditional statements.\n",
    "  name: Optional name for the variable. Defaults to `'Variable'` and gets\n",
    "    uniquified automatically.\n",
    "  variable_def: `VariableDef` protocol buffer. If not `None`, recreates\n",
    "    the Variable object with its contents, referencing the variable's nodes\n",
    "    in the graph, which must already exist. The graph is not changed.\n",
    "    `variable_def` and the other arguments are mutually exclusive.\n",
    "  dtype: If set, initial_value will be converted to the given type.\n",
    "    If `None`, either the datatype will be kept (if `initial_value` is\n",
    "    a Tensor), or `convert_to_tensor` will decide.\n",
    "  expected_shape: A TensorShape. If set, initial_value is expected\n",
    "    to have this shape.\n",
    "  import_scope: Optional `string`. Name scope to add to the\n",
    "    `Variable.` Only used when initializing from protocol buffer."
   ]
  },
  {
   "cell_type": "markdown",
   "metadata": {},
   "source": [
    "### - For example"
   ]
  },
  {
   "cell_type": "code",
   "execution_count": 54,
   "metadata": {},
   "outputs": [],
   "source": [
    "x = tf.placeholder(dtype=tf.int32, shape=[None, 2])\n",
    "W = tf.Variable(initial_value=[[1, 0], [0, 2]], dtype=tf.int32)"
   ]
  },
  {
   "cell_type": "code",
   "execution_count": 55,
   "metadata": {},
   "outputs": [],
   "source": [
    "y = tf.matmul(x, W)"
   ]
  },
  {
   "cell_type": "code",
   "execution_count": 56,
   "metadata": {},
   "outputs": [],
   "source": [
    "data = [[1, 2], [1, 1], [1, 9]]"
   ]
  },
  {
   "cell_type": "code",
   "execution_count": 67,
   "metadata": {},
   "outputs": [],
   "source": [
    "with tf.Session() as sess:\n",
    "    sess.run(tf.global_variables_initializer()) # 반드시 변수 초기화 실시\n",
    "    result = sess.run(y, feed_dict={x:data})\n",
    "    weight = sess.run(W)"
   ]
  },
  {
   "cell_type": "code",
   "execution_count": 70,
   "metadata": {},
   "outputs": [
    {
     "name": "stdout",
     "output_type": "stream",
     "text": [
      "[[ 1  4]\n",
      " [ 1  2]\n",
      " [ 1 18]]\n"
     ]
    }
   ],
   "source": [
    "print(result)"
   ]
  },
  {
   "cell_type": "code",
   "execution_count": 71,
   "metadata": {},
   "outputs": [
    {
     "name": "stdout",
     "output_type": "stream",
     "text": [
      "[[1 0]\n",
      " [0 2]]\n"
     ]
    }
   ],
   "source": [
    "print(weight)"
   ]
  },
  {
   "cell_type": "markdown",
   "metadata": {},
   "source": [
    "---"
   ]
  },
  {
   "cell_type": "markdown",
   "metadata": {},
   "source": [
    "### 참고자료\n",
    "Fundamentals of Deep Learning - Nikhil Buduma <br>\n",
    "Simple reinforcement learning with Tensorflow - Arthur Juliani <br>\n",
    "First Contact with TensorFlow - 텐서 플로우 블로그 (Tensor ≈ Blog), 박해선(https://tensorflow.blog/2016/04/28/first-contact-with-tensorflow/) <br>\n",
    "텐서플로우-#1 자료형의 이해 - 조대협의 블로그, 조대협(http://bcho.tistory.com/1150)"
   ]
  },
  {
   "cell_type": "markdown",
   "metadata": {},
   "source": [
    "End of Notebook"
   ]
  }
 ],
 "metadata": {
  "kernelspec": {
   "display_name": "Python 3",
   "language": "python",
   "name": "python3"
  },
  "language_info": {
   "codemirror_mode": {
    "name": "ipython",
    "version": 3
   },
   "file_extension": ".py",
   "mimetype": "text/x-python",
   "name": "python",
   "nbconvert_exporter": "python",
   "pygments_lexer": "ipython3",
   "version": "3.6.4"
  }
 },
 "nbformat": 4,
 "nbformat_minor": 2
}
