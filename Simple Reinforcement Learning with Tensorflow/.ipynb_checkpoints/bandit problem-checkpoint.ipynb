{
 "cells": [
  {
   "cell_type": "markdown",
   "metadata": {},
   "source": [
    "# bandit problem"
   ]
  },
  {
   "cell_type": "code",
   "execution_count": 1,
   "metadata": {},
   "outputs": [
    {
     "name": "stderr",
     "output_type": "stream",
     "text": [
      "C:\\Users\\a\\AppData\\Local\\Continuum\\anaconda3\\lib\\site-packages\\h5py\\__init__.py:36: FutureWarning: Conversion of the second argument of issubdtype from `float` to `np.floating` is deprecated. In future, it will be treated as `np.float64 == np.dtype(float).type`.\n",
      "  from ._conv import register_converters as _register_converters\n"
     ]
    }
   ],
   "source": [
    "import tensorflow as tf\n",
    "import tensorflow.contrib.slim as slim\n",
    "import numpy as np"
   ]
  },
  {
   "cell_type": "code",
   "execution_count": 35,
   "metadata": {},
   "outputs": [],
   "source": [
    "# 밴딧의 손잡이 목록 작성\n",
    "bandit_arms = [0.2, 0, -1.2, 0.3, -1.0]\n",
    "num_arms = len(bandit_arms)\n",
    "\n",
    "def pullBandit(bandit):\n",
    "    result = np.random.randn(1)\n",
    "    if result > bandit:\n",
    "        # 양의 보상 반환\n",
    "        return 1\n",
    "    else:\n",
    "        # 음의 보상 반환\n",
    "        return -1"
   ]
  },
  {
   "cell_type": "code",
   "execution_count": 32,
   "metadata": {},
   "outputs": [],
   "source": [
    "# 에이전트 구현\n",
    "tf.reset_default_graph()\n",
    "\n",
    "# 네트워크의 피드포워드 부분을 구현한다.\n",
    "weights = tf.Variable(tf.ones([num_arms]))\n",
    "output = tf.nn.softmax(weights)\n",
    "\n",
    "# 학습과정 구현\n",
    "# 보상과 선택된 액션을 네트워크에 피드해줌으로써 비용을 계산하고\n",
    "# 비용을 이용해 네트워크를 업데이트\n",
    "reward_holder = tf.placeholder(shape=[1], dtype=tf.float32)\n",
    "action_holder = tf.placeholder(shape=[1], dtype=tf.int32)\n",
    "\n",
    "responsible_output = tf.slice(output, action_holder, [1])\n",
    "loss =-(tf.log(responsible_output)*reward_holder)\n",
    "optimizer = tf.train.AdamOptimizer(learning_rate=1e-3)\n",
    "update = optimizer.minimize(loss)"
   ]
  },
  {
   "cell_type": "code",
   "execution_count": 36,
   "metadata": {},
   "outputs": [
    {
     "name": "stdout",
     "output_type": "stream",
     "text": [
      "0 Running reward for the 5 arms of the bandit: [-1.  0.  0.  0.  0.]\n",
      "200 Running reward for the 5 arms of the bandit: [-15.  -3.  35.  -8.  36.]\n",
      "400 Running reward for the 5 arms of the bandit: [-11.  -1.  71. -11.  65.]\n",
      "600 Running reward for the 5 arms of the bandit: [-13.   3. 119. -22.  94.]\n",
      "800 Running reward for the 5 arms of the bandit: [-19.   4. 158. -38. 130.]\n",
      "1000 Running reward for the 5 arms of the bandit: [-22.   1. 198. -45. 167.]\n",
      "1200 Running reward for the 5 arms of the bandit: [-19.  10. 248. -46. 188.]\n",
      "1400 Running reward for the 5 arms of the bandit: [-23.  17. 278. -44. 229.]\n",
      "1600 Running reward for the 5 arms of the bandit: [-29.  15. 321. -56. 270.]\n",
      "1800 Running reward for the 5 arms of the bandit: [-46.  12. 362. -60. 315.]\n",
      "2000 Running reward for the 5 arms of the bandit: [-51.  18. 408. -62. 352.]\n",
      "2200 Running reward for the 5 arms of the bandit: [-58.  16. 455. -76. 392.]\n",
      "2400 Running reward for the 5 arms of the bandit: [-74.   9. 508. -85. 429.]\n",
      "2600 Running reward for the 5 arms of the bandit: [-77.  15. 570. -91. 476.]\n",
      "2800 Running reward for the 5 arms of the bandit: [-79.  21. 641. -91. 521.]\n",
      "3000 Running reward for the 5 arms of the bandit: [-83.  15. 692. -97. 558.]\n",
      "3200 Running reward for the 5 arms of the bandit: [ -91.   16.  748. -103.  603.]\n",
      "3400 Running reward for the 5 arms of the bandit: [ -96.   19.  817. -112.  649.]\n",
      "3600 Running reward for the 5 arms of the bandit: [ -95.   22.  887. -117.  688.]\n",
      "3800 Running reward for the 5 arms of the bandit: [-105.   27.  961. -118.  734.]\n",
      "4000 Running reward for the 5 arms of the bandit: [-106.   18. 1033. -125.  785.]\n",
      "4200 Running reward for the 5 arms of the bandit: [-109.   18. 1102. -128.  840.]\n",
      "4400 Running reward for the 5 arms of the bandit: [-108.   20. 1162. -128.  889.]\n",
      "4600 Running reward for the 5 arms of the bandit: [-110.   19. 1223. -125.  946.]\n",
      "4800 Running reward for the 5 arms of the bandit: [-111.   19. 1307. -128.  990.]\n",
      "\n",
      "The agent thinks arm 3 is the most promising...\n",
      "It was right!\n"
     ]
    }
   ],
   "source": [
    "# 에이전트 학습\n",
    "# 에이전트를 학습시킬 총 에피소드의 수\n",
    "total_episodes = 5000\n",
    "# 밴딧 손잡이에 대한 점수판을 0으로 설정\n",
    "total_reward = np.zeros(num_arms)\n",
    "\n",
    "init = tf.global_variables_initializer()\n",
    "\n",
    "# 텐서플로우 그래프 생성\n",
    "with tf.Session() as sess:\n",
    "    sess.run(init)\n",
    "    for i in range(total_episodes):\n",
    "        # 볼츠만 분포에 따라 액션 선택\n",
    "        actions = sess.run(output)\n",
    "        pick = np.random.choice(actions, p=actions)\n",
    "        action = np.argmax(actions == pick)\n",
    "        \n",
    "        # 밴딧 손잡이 중 하나를 선택함으로써 보상을 받는다.\n",
    "        reward = pullBandit(bandit_arms[action])\n",
    "        \n",
    "        # 네트워크 업데이트\n",
    "        _, resp, ww = sess.run([update, responsible_output, weights], feed_dict={reward_holder:[reward], action_holder:[action]})\n",
    "        \n",
    "        # 보상의 총계 업데이트\n",
    "        total_reward[action] += reward\n",
    "        if i % 200 == 0:\n",
    "            print(str(i) + \" Running reward for the \" + str(num_arms) + \" arms of the bandit: \" + str(total_reward))\n",
    "\n",
    "print(\"\\nThe agent thinks arm \" + str(np.argmax(ww)+1) + \" is the most promising...\")\n",
    "if np.argmax(ww) == np.argmax(-np.array(bandit_arms)):\n",
    "    print(\"It was right!\")\n",
    "else:\n",
    "    print(\"Sorry, It was wrong!\")"
   ]
  },
  {
   "cell_type": "code",
   "execution_count": null,
   "metadata": {},
   "outputs": [],
   "source": []
  },
  {
   "cell_type": "code",
   "execution_count": null,
   "metadata": {},
   "outputs": [],
   "source": []
  }
 ],
 "metadata": {
  "kernelspec": {
   "display_name": "Python 3",
   "language": "python",
   "name": "python3"
  },
  "language_info": {
   "codemirror_mode": {
    "name": "ipython",
    "version": 3
   },
   "file_extension": ".py",
   "mimetype": "text/x-python",
   "name": "python",
   "nbconvert_exporter": "python",
   "pygments_lexer": "ipython3",
   "version": "3.6.4"
  }
 },
 "nbformat": 4,
 "nbformat_minor": 2
}
