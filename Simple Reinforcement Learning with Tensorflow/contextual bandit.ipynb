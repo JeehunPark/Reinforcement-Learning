{
 "cells": [
  {
   "cell_type": "markdown",
   "metadata": {},
   "source": [
    "# Contextual bandit"
   ]
  },
  {
   "cell_type": "markdown",
   "metadata": {},
   "source": [
    "콘텍스트 밴딧에서는 상태(state)개념을 도입한다. 이를 통해 어떤 밴딧을 다루고 있는지 알 수 있다. </br>\n",
    "다시말해 하나의 밴딧만 다루던 문제에서 여러 밴딧을 다루며 에이전트의 목표는 단지 1개의 밴딧이 아니라 여러 개의 밴딧에 대해 최선의 액션을 학습하는 것으로 확장되었다. </br>\n",
    "contextual: 맥락[전후 사정]과 관련된"
   ]
  },
  {
   "cell_type": "code",
   "execution_count": 2,
   "metadata": {},
   "outputs": [],
   "source": [
    "import tensorflow as tf\n",
    "import tensorflow.contrib.slim as slim\n",
    "import numpy as np"
   ]
  },
  {
   "cell_type": "code",
   "execution_count": null,
   "metadata": {},
   "outputs": [],
   "source": [
    "class contextual_bandit():\n",
    "    def __init__(self):\n",
    "        self.state = 0\n",
    "        # 밴딧들의 손잡이 목록을 작성(행: 밴딧, 열: 밴딧의 손잡이(액션))\n",
    "        # 동일 행에서 각각의 칼럼은 밴딧의 손잡이\n",
    "        self.bandits = np.array([[0.2, 0, -0.1], \n",
    "                                 [0.4, 0.0, -0.2], \n",
    "                                 [1.1, 1.2, 3.0]])\n",
    "        self.num_bandits = self.bandits.shape[0] # 밴딧의 개수 설정(행)\n",
    "        self.num_actions = self.bandits.shape[1] # 밴딧의 액션 개수 설정(열)\n",
    "    \n",
    "    def getBandit(self):\n",
    "        # 각각의 에피소드에 대해 랜덤한 상태를 반환\n",
    "        self.state = np.random.randint(0, self.num_bandits)\n",
    "        \n",
    "        return self.state\n",
    "    \n",
    "    def pullArm(self, action):\n",
    "        # 랜덤한 수를 얻는다. "
   ]
  }
 ],
 "metadata": {
  "kernelspec": {
   "display_name": "Python 3",
   "language": "python",
   "name": "python3"
  },
  "language_info": {
   "codemirror_mode": {
    "name": "ipython",
    "version": 3
   },
   "file_extension": ".py",
   "mimetype": "text/x-python",
   "name": "python",
   "nbconvert_exporter": "python",
   "pygments_lexer": "ipython3",
   "version": "3.6.4"
  }
 },
 "nbformat": 4,
 "nbformat_minor": 2
}
