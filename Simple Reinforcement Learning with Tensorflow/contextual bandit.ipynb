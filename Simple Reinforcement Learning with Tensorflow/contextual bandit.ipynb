{
 "cells": [
  {
   "cell_type": "markdown",
   "metadata": {},
   "source": [
    "# Contextual bandit"
   ]
  },
  {
   "cell_type": "markdown",
   "metadata": {},
   "source": [
    "콘텍스트 밴딧에서는 상태(state)개념을 도입한다. 이를 통해 어떤 밴딧을 다루고 있는지 알 수 있다. </br>\n",
    "다시말해 하나의 밴딧만 다루던 문제에서 여러 밴딧을 다루며 에이전트의 목표는 단지 1개의 밴딧이 아니라 여러 개의 밴딧에 대해 최선의 액션을 학습하는 것으로 확장되었다. </br>\n",
    "contextual: 맥락[전후 사정]과 관련된"
   ]
  },
  {
   "cell_type": "code",
   "execution_count": 11,
   "metadata": {},
   "outputs": [],
   "source": [
    "import tensorflow as tf\n",
    "import tensorflow.contrib.slim as slim\n",
    "import numpy as np"
   ]
  },
  {
   "cell_type": "code",
   "execution_count": 8,
   "metadata": {},
   "outputs": [],
   "source": [
    "class contextual_bandit():\n",
    "    def __init__(self):\n",
    "        self.state = 0\n",
    "        # 밴딧들의 손잡이 목록을 작성(행: 밴딧, 열: 밴딧의 손잡이(액션))\n",
    "        # 동일 행에서 각각의 칼럼은 밴딧의 손잡이\n",
    "        self.bandits = np.array([[0.2, 0, -0.1], \n",
    "                                 [0.4, 0.0, -0.2], \n",
    "                                 [-1.1, 1.2, 3.0]])\n",
    "        self.num_bandits = self.bandits.shape[0] # 밴딧의 개수 설정(행)\n",
    "        self.num_actions = self.bandits.shape[1] # 밴딧의 액션 개수 설정(열)\n",
    "    \n",
    "    def getBandit(self):\n",
    "        # 각각의 에피소드에 대해 랜덤한 상태를 반환\n",
    "        self.state = np.random.randint(0, self.num_bandits)\n",
    "        \n",
    "        return self.state\n",
    "    \n",
    "    def pullArm(self, action):\n",
    "        # 랜덤한 수를 얻는다. \n",
    "        bandit = self.bandits[self.state, action]\n",
    "        result = np.random.randn(1)\n",
    "        if result > bandit:\n",
    "            return 1\n",
    "        else:\n",
    "            return -1"
   ]
  },
  {
   "cell_type": "code",
   "execution_count": 9,
   "metadata": {},
   "outputs": [],
   "source": [
    "# 에이전트 클래스\n",
    "# 정책 경사 방법을 사용해 선택된 액션에 대해 더 큰 보상을 받는 쪽으로 이동하도록 에이전트를 업데이트\n",
    "\n",
    "class agent():\n",
    "    def __init__(self, lr, s_size, a_size):\n",
    "        # 네트워크의 피드포워드 부분, 에이전트는 상태를 받아서 액션을 출력\n",
    "        self.state_in = tf.placeholder(shape=[1], dtype=tf.uint8)\n",
    "        state_in_OHE = slim.one_hot_encoding(self.state_in, s_size)\n",
    "        output = slim.fully_connected(state_in_OHE, a_size, biases_initializer=None, \n",
    "                                      activation_fn=tf.nn.sigmoid, weights_initializer=tf.ones_initializer())\n",
    "        # output 차원을 1차원 벡터로 변환\n",
    "        self.output = tf.reshape(output, [-1])\n",
    "        # output에서 가장 큰 값 추출\n",
    "        self.chosen_action = tf.argmax(self.output, axis=0)\n",
    "        \n",
    "        # 학습과정을 구현\n",
    "        # 비용을 계산하기 위해 봇아과 선택된 액션을 네트워크에 피드하고\n",
    "        # 네트워크를 업데이트하는 데에 이를 이용한다. \n",
    "        self.reward_holder = tf.placeholder(shape=[1], dtype=tf.float32) # 텐서플로우는 float16지원 안함\n",
    "        self.action_holder = tf.placeholder(shape=[1], dtype=tf.int32) # 여기서는 uint8지원 안함, 아래 tf.slice에서 begin인자가 int32이상을 받음\n",
    "        self.responsible_weight = tf.slice(input_=self.output, begin=self.action_holder, size=[1]) #self.output을 받아 self.action_holder부터 [1]사이즈만큼 슬라이스\n",
    "        self.loss = -(tf.log(self.responsible_weight)*self.reward_holder)\n",
    "        optimizer = tf.train.GradientDescentOptimizer(learning_rate=lr)\n",
    "        self.update = optimizer.minimize(self.loss)"
   ]
  },
  {
   "cell_type": "code",
   "execution_count": 10,
   "metadata": {},
   "outputs": [
    {
     "name": "stdout",
     "output_type": "stream",
     "text": [
      "Mean reward for each of the 3 bandits: [ 0.          0.         -0.33333333]\n",
      "The best actions for each bandit are 1 1 1\n",
      "Mean reward for each of the 3 bandits: [15.66666667 15.33333333 76.66666667]\n",
      "The best actions for each bandit are 3 3 1\n",
      "Mean reward for each of the 3 bandits: [ 24.66666667  33.         144.66666667]\n",
      "The best actions for each bandit are 3 3 1\n",
      "Mean reward for each of the 3 bandits: [ 32.66666667  43.66666667 224.66666667]\n",
      "The best actions for each bandit are 3 3 1\n",
      "Mean reward for each of the 3 bandits: [ 40.33333333  52.33333333 291.66666667]\n",
      "The best actions for each bandit are 3 3 1\n",
      "Mean reward for each of the 3 bandits: [ 54.          59.66666667 356.66666667]\n",
      "The best actions for each bandit are 3 3 1\n",
      "Mean reward for each of the 3 bandits: [ 59.66666667  73.         425.        ]\n",
      "The best actions for each bandit are 3 3 1\n",
      "Mean reward for each of the 3 bandits: [ 63.33333333  89.         492.66666667]\n",
      "The best actions for each bandit are 3 3 1\n",
      "Mean reward for each of the 3 bandits: [ 79.         103.33333333 560.66666667]\n",
      "The best actions for each bandit are 3 3 1\n",
      "Mean reward for each of the 3 bandits: [ 95.         113.66666667 627.        ]\n",
      "The best actions for each bandit are 3 3 1\n",
      "0 bandit's best action is 3\n",
      "It is correct\n",
      "1 bandit's best action is 3\n",
      "It is correct\n",
      "2 bandit's best action is 1\n",
      "It is correct\n"
     ]
    }
   ],
   "source": [
    "# 에이전트 학습\n",
    "# 에이전트는 환경의 상태를 알아내고, 액션을 취하고, 보상을 받으면서 학습\n",
    "\n",
    "# 텐서플로우 그래프 리셋\n",
    "tf.reset_default_graph()\n",
    "# 밴딧 로드\n",
    "cBandit = contextual_bandit()\n",
    "# 에이전트 로드\n",
    "myAgent = agent(lr=0.001, s_size=cBandit.num_bandits, a_size=cBandit.num_actions)\n",
    "# 네트워크 내부를 들여다보기 위해 평가할 가중치\n",
    "weights = tf.trainable_variables()[0]\n",
    "\n",
    "# 에이전트를 학습시킬 전체 에피소드 수 설정\n",
    "total_episodes = 10000\n",
    "# 밴딧에 대한 점수판을 0으로 설정\n",
    "total_reward = np.zeros([cBandit.num_bandits, cBandit.num_actions])\n",
    "# 랜덤한 액션을 취할 가능성 설정\n",
    "e = 0.1\n",
    "\n",
    "init = tf.global_variables_initializer()\n",
    "\n",
    "# 텐서플로우 그래프 런칭\n",
    "with tf.Session() as sess:\n",
    "    sess.run(init)\n",
    "    for i in range(total_episodes):\n",
    "        s = cBandit.getBandit()\n",
    "        # 네트워크로부터 랜덤한 액션 또는 하나의 액션을 선택한다. \n",
    "        if np.random.rand(1) < e: # e로 설정한 아주 작은 수보다 작을 경우 랜덤한 액션 선택\n",
    "            action = np.random.randint(cBandit.num_actions)\n",
    "        else: # 아닌 경우 상태를 받아서 액션 선택\n",
    "            action = sess.run(myAgent.chosen_action, feed_dict={myAgent.state_in:[s]})\n",
    "            \n",
    "        # 주어진 밴딧에 대해 액션을 취한 보상을 얻는다.\n",
    "        reward = cBandit.pullArm(action)\n",
    "        \n",
    "        # 네트워크를 업데이트\n",
    "        feed_dict = {myAgent.reward_holder:[reward], myAgent.action_holder:[action], myAgent.state_in:[s]}\n",
    "        _, ww = sess.run([myAgent.update, weights], feed_dict=feed_dict)\n",
    "        \n",
    "        # 보상의 총계 업데이트\n",
    "        total_reward[s, action] += reward\n",
    "        \n",
    "        if not i % 1000:\n",
    "            print(\"Mean reward for each of the \" + str(cBandit.num_bandits) + \" bandits: \" + str(np.mean(total_reward, axis=1)))\n",
    "            print(\"The best actions for each bandit are \" + str(np.argmax(ww[0])+1), str(np.argmax(ww[1])+1), str(np.argmax(ww[2])+1))\n",
    "    \n",
    "# 결과값 출력\n",
    "for bandit in range(cBandit.num_bandits):\n",
    "    print(str(bandit) + \" bandit's best action is \" + str(np.argmax(ww[bandit])+1))\n",
    "    if np.argmax(ww[bandit]) == np.argmin(cBandit.bandits[bandit]):\n",
    "        print(\"It is correct\")\n",
    "    else:\n",
    "        print(\"It is wrong!...\")"
   ]
  },
  {
   "cell_type": "code",
   "execution_count": null,
   "metadata": {},
   "outputs": [],
   "source": []
  }
 ],
 "metadata": {
  "kernelspec": {
   "display_name": "Python 3",
   "language": "python",
   "name": "python3"
  },
  "language_info": {
   "codemirror_mode": {
    "name": "ipython",
    "version": 3
   },
   "file_extension": ".py",
   "mimetype": "text/x-python",
   "name": "python",
   "nbconvert_exporter": "python",
   "pygments_lexer": "ipython3",
   "version": "3.6.4"
  }
 },
 "nbformat": 4,
 "nbformat_minor": 2
}
