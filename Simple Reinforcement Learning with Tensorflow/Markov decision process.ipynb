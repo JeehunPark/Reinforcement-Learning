{
 "cells": [
  {
   "cell_type": "markdown",
   "metadata": {},
   "source": [
    "# Markov decision process(MDP)"
   ]
  },
  {
   "cell_type": "markdown",
   "metadata": {},
   "source": [
    "에이전트에게 완전한 문제를 제시하는 환경을 마르코프 결정 과정(Markov decision process, MDP)라고 한다. <br>\n",
    "이러한 환경은 주어진 환경에서의 보상과 상태 전이를 제공하는 데 그치지 않고, <br>\n",
    "환경의 상태와 에이전트가 자신의 상태에서 취하는 액션에 의해 좌우, 시간에 의해 보상이 달라질 수 있음 <br>\n",
    "에이전트는 어느 시점에서 S(상태의 집합)에서 s(상태)를 경험하게 된다. 또한 A가 존재하며 이는 에이전트가 취할 수 있는 액션의 집합으로 표현된다"
   ]
  },
  {
   "cell_type": "code",
   "execution_count": 31,
   "metadata": {},
   "outputs": [],
   "source": [
    "import tensorflow as tf\n",
    "import tensorflow.contrib.slim as slim\n",
    "import numpy as np\n",
    "import gym\n",
    "import matplotlib.pyplot as plt"
   ]
  },
  {
   "cell_type": "code",
   "execution_count": 32,
   "metadata": {},
   "outputs": [
    {
     "name": "stdout",
     "output_type": "stream",
     "text": [
      "\u001b[33mWARN: gym.spaces.Box autodetected dtype as <class 'numpy.float32'>. Please provide explicit dtype.\u001b[0m\n"
     ]
    }
   ],
   "source": [
    "# 오픈AI에서 특정 환경을 불러오는 코드\n",
    "env = gym.make(\"CartPole-v0\")"
   ]
  },
  {
   "cell_type": "code",
   "execution_count": 33,
   "metadata": {},
   "outputs": [
    {
     "data": {
      "text/plain": [
       "(Discrete(2), Box(4,))"
      ]
     },
     "execution_count": 33,
     "metadata": {},
     "output_type": "execute_result"
    }
   ],
   "source": [
    "# CartPole 환경의 액션과 관측값의 종류\n",
    "env.action_space, env.observation_space"
   ]
  },
  {
   "cell_type": "code",
   "execution_count": 34,
   "metadata": {},
   "outputs": [],
   "source": [
    "# 정책 기반 에이전트\n",
    "gamma = 0.99\n",
    "\n",
    "def discount_rewards(r):\n",
    "    # 보상의 1D 실수 배열을 취해서 할인된 보상을 계산\n",
    "    discounted_r = np.zeros_like(r)\n",
    "    running_add = 0\n",
    "    \n",
    "    for t in range(r.size-1, -1, -1):\n",
    "        running_add = running_add*gamma+r[t]\n",
    "        discounted_r[t] = running_add\n",
    "    \n",
    "    return discounted_r\n",
    "\n",
    "class agent():\n",
    "    def __init__(self, lr, s_size, a_size, h_size):\n",
    "        # 네트워크의 피드포워드 부분, 에이전트는 상태를 받아서 액션을 출력\n",
    "        self.state_in = tf.placeholder(shape=[None, s_size], dtype=tf.float32)\n",
    "        # 히든레이어 설정\n",
    "        hidden = slim.fully_connected(inputs=self.state_in, num_outputs=h_size, \n",
    "                                      activation_fn=tf.nn.relu, biases_initializer=None)\n",
    "        # 출력레이어 설정\n",
    "        self.output = slim.fully_connected(inputs=hidden, num_outputs=a_size, \n",
    "                                           activation_fn=tf.nn.softmax, biases_initializer=None)\n",
    "        # 출력레이어에서 값이 가장 큰 값의 인덱스 선택\n",
    "        self.chosen_action = tf.argmax(input=self.output, axis=1)\n",
    "        \n",
    "        # 학습 과정 구현, 비용을 계산하기 위해 보상과 액션을 네트워크에 피드하고, 이를 통해 네트워크 업데이트\n",
    "        self.reward_holder = tf.placeholder(shape=[None], dtype=tf.float32)\n",
    "        self.action_holder = tf.placeholder(shape=[None], dtype=tf.int32)\n",
    "        \n",
    "        self.indexes = tf.range(start=0, limit=tf.shape(input=self.output)[0])*tf.shape(input=self.output)[1]+self.action_holder\n",
    "        self.responsible_outputs = tf.gather(tf.reshape(self.output, [-1]), self.indexes)\n",
    "        \n",
    "        # 평균값 줄이기\n",
    "        self.loss = -tf.reduce_mean(input_tensor=tf.log(self.responsible_outputs)*self.reward_holder)\n",
    "        \n",
    "        tvars = tf.trainable_variables()\n",
    "        self.gradient_holders = []\n",
    "        for idx, ele in enumerate(tvars):\n",
    "            placeholder = tf.placeholder(dtype=tf.float32, name=str(idx)+\"_holder\")\n",
    "            self.gradient_holders.append(placeholder)\n",
    "        \n",
    "        self.gradients = tf.gradients(ys=self.loss, xs=tvars)\n",
    "        \n",
    "        optimizer =tf.train.AdamOptimizer(learning_rate=lr)\n",
    "        self.update_batch = optimizer.apply_gradients(zip(self.gradient_holders, tvars))"
   ]
  },
  {
   "cell_type": "code",
   "execution_count": 42,
   "metadata": {},
   "outputs": [
    {
     "name": "stderr",
     "output_type": "stream",
     "text": [
      "C:\\Users\\a\\AppData\\Local\\Continuum\\anaconda3\\lib\\site-packages\\tensorflow\\python\\ops\\gradients_impl.py:93: UserWarning: Converting sparse IndexedSlices to a dense Tensor of unknown shape. This may consume a large amount of memory.\n",
      "  \"Converting sparse IndexedSlices to a dense Tensor of unknown shape. \"\n"
     ]
    },
    {
     "name": "stdout",
     "output_type": "stream",
     "text": [
      "1.0\n",
      "1.0\n",
      "1.0\n",
      "1.0\n",
      "1.0\n",
      "1.0\n",
      "1.0\n",
      "1.0\n",
      "1.0\n",
      "1.0\n",
      "1.0\n",
      "1.0\n",
      "1.0\n",
      "1.0\n",
      "1.0\n",
      "1.0\n",
      "1.0\n",
      "1.0\n",
      "1.0\n",
      "1.0\n",
      "1.0\n",
      "1.0\n",
      "1.0\n",
      "1.0\n",
      "1.0\n",
      "1.0\n",
      "1.0\n",
      "1.0\n",
      "1.0\n",
      "1.0\n",
      "1.0\n",
      "1.0\n",
      "1.0\n",
      "1.0\n",
      "1.0\n",
      "1.0\n",
      "1.0\n",
      "1.0\n",
      "1.0\n",
      "1.0\n",
      "1.0\n",
      "1.0\n",
      "1.0\n",
      "1.0\n",
      "1.0\n",
      "1.0\n",
      "1.0\n",
      "1.0\n",
      "1.0\n",
      "1.0\n"
     ]
    }
   ],
   "source": [
    "# 에이전트 학습\n",
    "\n",
    "# 텐서플로우 그래프 리셋\n",
    "tf.reset_default_graph()\n",
    "\n",
    "# 에이전트 로드(상태는 네 가지, 액션은 두 가지)\n",
    "myAgent = agent(lr=1e-2, s_size=4, a_size=2, h_size=8)\n",
    "\n",
    "# 에이전트를 학습시킬 총 에피소드 수\n",
    "total_episodes = 5000\n",
    "max_ep = 999\n",
    "update_frequency = 5\n",
    "\n",
    "init = tf.global_variables_initializer()\n",
    "\n",
    "# 텐서플로우 그래프 런칭\n",
    "with tf.Session() as sess:\n",
    "    sess.run(init)\n",
    "    total_reward = []\n",
    "    total_length = []\n",
    "    \n",
    "    gradBuffer = sess.run(tf.trainable_variables())\n",
    "    for idx, grad in enumerate(gradBuffer):\n",
    "        gradBuffer[idx] = grad*0\n",
    "    \n",
    "    for i in range(total_episodes):\n",
    "        s = env.reset()\n",
    "        running_reward = 0\n",
    "        ep_history = []\n",
    "        for j in range(max_ep):\n",
    "            # 네트워크 출력에서 확률적으로 액션을 선택\n",
    "            a_dist = sess.run(myAgent.output, feed_dict={myAgent.state_in:[s]})\n",
    "            a = np.random.choice(a_dist[0], p=a_dist[0])\n",
    "            a = np.argmax(a_dist == a)\n",
    "            \n",
    "            # 주어진 밴딧에 대해 액션을 취한 보상\n",
    "            s1, r, d, _ = env.step(a) #observation, reward, done, info가 리턴\n",
    "            ep_history.append([s, a, r, s1])\n",
    "            s = s1\n",
    "            running_reward += r\n",
    "            if d == True:\n",
    "                # 네트워크 업데이트\n",
    "                ep_history = np.array(ep_history)\n",
    "                ep_history[:, 2] = discount_rewards(ep_history[:, 2]) # 보상을 디스카운트\n",
    "                feed_dict = {myAgent.reward_holder:ep_history[:, 2], myAgent.action_holder:ep_history[:, 1], myAgent.state_in:np.vstack(ep_history[:, 0])}\n",
    "                grads = sess.run(myAgent.gradients, feed_dict=feed_dict)\n",
    "                for idx, grad in enumerate(grads):\n",
    "                    gradBuffer[idx] += grad\n",
    "            \n",
    "            if i % update_frequency == 0 and i !=0:\n",
    "                feed_dict = dict(zip(myAgent.gradient_holders, gradBuffer))\n",
    "                _ = sess.run(myAgent.update_batch, feed_dict=feed_dict)\n",
    "                for idx, grad in enumerate(gradBuffer):\n",
    "                    gradBuffer[idx] = grad*0\n",
    "            \n",
    "            total_reward.append(running_reward)\n",
    "            total_length.append(j)\n",
    "            break\n",
    "        \n",
    "        # 보상의 총계 업데이트\n",
    "        if i % 100 == 0:\n",
    "            print(np.mean(total_reward[-100:]))"
   ]
  },
  {
   "cell_type": "code",
   "execution_count": 10,
   "metadata": {},
   "outputs": [],
   "source": [
    "with tf.Session() as sess:\n",
    "    sess.run(tf.global_variables_initializer())\n",
    "    gradBuffer = sess.run(tf.trainable_variables())\n",
    "    for idx, grad in enumerate(gradBuffer):\n",
    "        print(idx)\n",
    "        gradBuffer[idx] = grad*0"
   ]
  },
  {
   "cell_type": "code",
   "execution_count": 20,
   "metadata": {},
   "outputs": [],
   "source": [
    "a = dict(zip([1, 2, 3], ['a', 'b', 'c']))"
   ]
  },
  {
   "cell_type": "code",
   "execution_count": 29,
   "metadata": {},
   "outputs": [
    {
     "ename": "NameError",
     "evalue": "name 'le' is not defined",
     "output_type": "error",
     "traceback": [
      "\u001b[1;31m---------------------------------------------------------------------------\u001b[0m",
      "\u001b[1;31mNameError\u001b[0m                                 Traceback (most recent call last)",
      "\u001b[1;32m<ipython-input-29-ed3adf39ff82>\u001b[0m in \u001b[0;36m<module>\u001b[1;34m()\u001b[0m\n\u001b[1;32m----> 1\u001b[1;33m \u001b[0mle\u001b[0m\u001b[1;33m-\u001b[0m\u001b[1;36m2\u001b[0m\u001b[1;33m\u001b[0m\u001b[0m\n\u001b[0m",
      "\u001b[1;31mNameError\u001b[0m: name 'le' is not defined"
     ]
    }
   ],
   "source": [
    "le-2"
   ]
  },
  {
   "cell_type": "code",
   "execution_count": 31,
   "metadata": {},
   "outputs": [
    {
     "data": {
      "text/plain": [
       "array([[1],\n",
       "       [2],\n",
       "       [3]])"
      ]
     },
     "execution_count": 31,
     "metadata": {},
     "output_type": "execute_result"
    }
   ],
   "source": [
    "tf.gradients"
   ]
  },
  {
   "cell_type": "code",
   "execution_count": 11,
   "metadata": {},
   "outputs": [],
   "source": [
    "s = env.reset()"
   ]
  },
  {
   "cell_type": "code",
   "execution_count": 28,
   "metadata": {},
   "outputs": [
    {
     "name": "stdout",
     "output_type": "stream",
     "text": [
      "\u001b[33mWARN: You are calling 'step()' even though this environment has already returned done = True. You should always call 'reset()' once you receive 'done = True' -- any further steps are undefined behavior.\u001b[0m\n"
     ]
    },
    {
     "data": {
      "text/plain": [
       "(array([-0.27778961, -1.99688227,  0.32315403,  3.08908763]), 0.0, True, {})"
      ]
     },
     "execution_count": 28,
     "metadata": {},
     "output_type": "execute_result"
    }
   ],
   "source": [
    "env.step(1)"
   ]
  },
  {
   "cell_type": "code",
   "execution_count": 30,
   "metadata": {},
   "outputs": [
    {
     "data": {
      "text/plain": [
       "<bound method TimeLimit.step of <TimeLimit<CartPoleEnv<CartPole-v0>>>>"
      ]
     },
     "execution_count": 30,
     "metadata": {},
     "output_type": "execute_result"
    }
   ],
   "source": [
    "env.step"
   ]
  },
  {
   "cell_type": "code",
   "execution_count": null,
   "metadata": {},
   "outputs": [],
   "source": []
  }
 ],
 "metadata": {
  "kernelspec": {
   "display_name": "Python 3",
   "language": "python",
   "name": "python3"
  },
  "language_info": {
   "codemirror_mode": {
    "name": "ipython",
    "version": 3
   },
   "file_extension": ".py",
   "mimetype": "text/x-python",
   "name": "python",
   "nbconvert_exporter": "python",
   "pygments_lexer": "ipython3",
   "version": "3.6.4"
  }
 },
 "nbformat": 4,
 "nbformat_minor": 2
}
