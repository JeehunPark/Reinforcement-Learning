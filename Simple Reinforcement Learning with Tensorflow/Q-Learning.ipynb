{
 "cells": [
  {
   "cell_type": "markdown",
   "metadata": {},
   "source": [
    "# Q-Learning"
   ]
  },
  {
   "cell_type": "markdown",
   "metadata": {},
   "source": [
    "관찰을 액션에 직접적으로 매핑하는 함수를 학습하는 정책 경사 방법과 달리, Q-Learning은 각 상태 내에서의 값을 학습하고자 시도하며 그 상태 내에서 특정액션을 취한다. <br>\n",
    "정책 경사 방법과 Q-Learnin 접근법은 궁극적으로는 주어진 환경 아래 지능적인 액션을 취하게 한다는 점에서 동일 하지만 액션에 도달하는 수단이 다르다. <br>\n",
    "Deep Q-Learning은 Q-Learning 알고리즘을 더 크고 복잡하게 구현한 것"
   ]
  },
  {
   "cell_type": "markdown",
   "metadata": {},
   "source": [
    "## Q Table"
   ]
  },
  {
   "cell_type": "code",
   "execution_count": 56,
   "metadata": {},
   "outputs": [],
   "source": [
    "import gym\n",
    "import numpy as np\n",
    "import random\n",
    "import matplotlib.pyplot as plt"
   ]
  },
  {
   "cell_type": "code",
   "execution_count": 69,
   "metadata": {},
   "outputs": [],
   "source": [
    "# FrozenLake 환경 불러오기\n",
    "env = gym.make(\"FrozenLake-v0\")"
   ]
  },
  {
   "cell_type": "code",
   "execution_count": 74,
   "metadata": {},
   "outputs": [],
   "source": [
    "# Q Table 초기화([16, 4], 값은 0)\n",
    "Q = np.zeros([env.observation_space.n, env.action_space.n])\n",
    "# 학습 매개변수 설정\n",
    "lr = .85\n",
    "y = .99\n",
    "num_episodes = 2000\n",
    "\n",
    "# 누적 보상을 담을 리스트 생성\n",
    "reward_his = []\n",
    "\n",
    "for i in range(num_episodes):\n",
    "    # 환경을 리셋하고 첫번째 state획득\n",
    "    s = env.reset()\n",
    "    reward_all = 0\n",
    "    d = False\n",
    "    \n",
    "    # Q Table 학습 알고리즘\n",
    "    for j in range(100):\n",
    "        # Q Table로부터(노이즈와 함께) 그리디하게 액션 선택\n",
    "        a = np.argmax(Q[s, :] + np.random.randn(1, env.action_space.n)*(1./(i+1)))\n",
    "        # 환경으로부터 새로운 상태와 보상을 얻는다.\n",
    "        s1, r, d, _ = env.step(a)\n",
    "        # 새로운 지식을 통해 Q Table 업데이트\n",
    "        Q[s, a] = Q[s, a]+lr*(r+y*np.max(Q[s1, :])-Q[s, a])\n",
    "        reward_all+=r\n",
    "        # 기존의 상태 s를 새로 얻은 상태 s1으로 업데이트\n",
    "        s = s1\n",
    "        if d == True: # 목적지에 도달하면 두번째 for문 탈출\n",
    "            break\n",
    "    reward_his.append(reward_all)"
   ]
  },
  {
   "cell_type": "code",
   "execution_count": 76,
   "metadata": {},
   "outputs": [
    {
     "data": {
      "text/plain": [
       "array([[6.36113307e-03, 7.86712068e-03, 3.96652258e-01, 9.97194650e-03],\n",
       "       [3.14146672e-03, 2.78719762e-03, 2.72995582e-03, 2.61869599e-01],\n",
       "       [5.36970174e-03, 3.62288040e-03, 5.43019038e-03, 2.60667409e-01],\n",
       "       [2.63530739e-03, 1.32747107e-03, 1.39599729e-03, 1.84501943e-01],\n",
       "       [6.33130978e-01, 3.38108438e-03, 3.49727390e-04, 2.84295233e-03],\n",
       "       [0.00000000e+00, 0.00000000e+00, 0.00000000e+00, 0.00000000e+00],\n",
       "       [3.94312470e-02, 1.18429508e-04, 4.74359114e-04, 1.80252052e-05],\n",
       "       [0.00000000e+00, 0.00000000e+00, 0.00000000e+00, 0.00000000e+00],\n",
       "       [0.00000000e+00, 6.41574885e-04, 3.46954978e-04, 8.48121824e-01],\n",
       "       [0.00000000e+00, 4.99988849e-01, 3.04713856e-04, 3.24084645e-04],\n",
       "       [2.87232003e-01, 6.70459321e-04, 4.64388641e-04, 0.00000000e+00],\n",
       "       [0.00000000e+00, 0.00000000e+00, 0.00000000e+00, 0.00000000e+00],\n",
       "       [0.00000000e+00, 0.00000000e+00, 0.00000000e+00, 0.00000000e+00],\n",
       "       [1.65912733e-03, 1.50060817e-02, 9.76106472e-01, 4.98321762e-03],\n",
       "       [0.00000000e+00, 0.00000000e+00, 9.97394163e-01, 0.00000000e+00],\n",
       "       [0.00000000e+00, 0.00000000e+00, 0.00000000e+00, 0.00000000e+00]])"
      ]
     },
     "execution_count": 76,
     "metadata": {},
     "output_type": "execute_result"
    }
   ],
   "source": [
    "Q"
   ]
  },
  {
   "cell_type": "code",
   "execution_count": 75,
   "metadata": {},
   "outputs": [
    {
     "data": {
      "text/plain": [
       "0.492"
      ]
     },
     "execution_count": 75,
     "metadata": {},
     "output_type": "execute_result"
    }
   ],
   "source": [
    "sum(reward_his)/num_episodes"
   ]
  },
  {
   "cell_type": "markdown",
   "metadata": {},
   "source": [
    "## Q-Learning using neural network"
   ]
  },
  {
   "cell_type": "markdown",
   "metadata": {},
   "source": [
    "테이블을 사용해서 학습하는것은 매우 제한적이다. 실제 환경에서는 테이블로 표현할 수 없을 정도로 큰 상태를 가지고 있기 때문이다. <br>\n",
    "이에 대한 해결책으로 신경망을 통한 함수근사를 시도한다. 이를 통해 액션에 대한 Q값을 도출 할 수 있다. "
   ]
  },
  {
   "cell_type": "code",
   "execution_count": 4,
   "metadata": {},
   "outputs": [],
   "source": [
    "import gym\n",
    "import numpy as np\n",
    "import random\n",
    "import tensorflow as tf\n",
    "import matplotlib.pyplot as plt"
   ]
  },
  {
   "cell_type": "code",
   "execution_count": 5,
   "metadata": {},
   "outputs": [],
   "source": [
    "# FrozenLake 환경 불러오기\n",
    "env = gym.make(\"FrozenLake-v0\")"
   ]
  },
  {
   "cell_type": "code",
   "execution_count": 7,
   "metadata": {},
   "outputs": [],
   "source": [
    "# 네트워크 구현\n",
    "# 그래프 초기화\n",
    "tf.reset_default_graph()\n",
    "\n",
    "# 액션을 선택하는 데 사용되는 네트워크의 피드포워드 부분\n",
    "input1 = tf.placeholder(shape=[1, 16], dtype=tf.float32)\n",
    "W = tf.Variable(tf.random_uniform(shape=[16,4], minval=0, maxval=0.01))\n",
    "Qout = tf.matmul(a=input1, b=W)\n",
    "predict = tf.argmax(input=Qout, axis=1)\n",
    "\n",
    "# 타깃 Q값과 예측 Q값의 차의 제곱합을 통해 비용을 얻는다. \n",
    "nextQ = tf.placeholder(shape=[1, 4], dtype=tf.float32)\n",
    "loss = tf.reduce_sum(input_tensor=tf.square(x=nextQ-Qout))\n",
    "trainer = tf.train.GradientDescentOptimizer(learning_rate=0.1)\n",
    "updateModel = trainer.minimize(loss)"
   ]
  },
  {
   "cell_type": "code",
   "execution_count": 30,
   "metadata": {},
   "outputs": [],
   "source": [
    "# 네트워크 학습\n",
    "init = tf.global_variables_initializer()\n",
    "\n",
    "# 학습 매개변수 설정\n",
    "y = 0.99\n",
    "e = 0.1 # 랜덤한 확률을 취하는 정도\n",
    "num_episodes = 2000\n",
    "# 보상의 총계와 에피소드별 단계 수를 담을 리스트 생성\n",
    "jList = []\n",
    "rList = []\n",
    "with tf.Session() as sess:\n",
    "    sess.run(init)\n",
    "    for i in range(num_episodes):\n",
    "        # 환경을 리셋하고 첫 번째 새로운 관찰을 얻는다.\n",
    "        s = env.reset()\n",
    "        rAll = 0\n",
    "        done = False\n",
    "        j = 0\n",
    "        # Q 네트워크\n",
    "        while j < 99:\n",
    "            j+=1\n",
    "            # Q네트워크에서 e의 확률로 랜덤하게 액션을 선택하거나 그리디하게 액션를 선택\n",
    "            a, allQ = sess.run(fetches=[predict, Qout], feed_dict={input1:np.identity(n=16)[s:s+1, :]})\n",
    "            if np.random.rand(1) < e:\n",
    "                a[0] = env.action_space.sample()\n",
    "            # 환경으로 부터 새로운 상태와 보상을 얻는다. \n",
    "            s1, reward, done, _ = env.step(action=a[0])\n",
    "            # 새로운 상태를 네트워크에 피드해줌으로써 Q`값을 구한다. \n",
    "            Q1 = sess.run(fetches=Qout, feed_dict={input1:np.identity(n=16)[s1:s1+1, :]})\n",
    "            # maxQ`값을 구하고 선택된 액션에 대한 타깃 값을 설정\n",
    "            maxQ1 = np.max(Q1)\n",
    "            targetQ = allQ\n",
    "            targetQ[0, a[0]] = reward+y*maxQ1\n",
    "            # 타깃 및 예측 Q값을 이용해 네트워크를 학습시킨다.\n",
    "            _, W1 = sess.run(fetches=[updateModel, W], feed_dict={input1:np.identity(16)[s:s+1], nextQ:targetQ})\n",
    "            rAll += reward\n",
    "            s = s1\n",
    "            if done == True:\n",
    "                # 모델을 학습하면서 랜덤 액션의 가능성을 줄인다.\n",
    "                e = 1./((i/50)+10)\n",
    "                break\n",
    "        jList.append(j)\n",
    "        rList.append(rAll)\n",
    "\n",
    "print(\"Percent of succesful episodes: \" + str(sum(rList)/num_episodes))"
   ]
  },
  {
   "cell_type": "code",
   "execution_count": 32,
   "metadata": {},
   "outputs": [
    {
     "data": {
      "image/png": "[encoded data removed]",
      "text/plain": [
       "<matplotlib.figure.Figure at 0x20bdfcbd5c0>"
      ]
     },
     "metadata": {},
     "output_type": "display_data"
    }
   ],
   "source": [
    "plt.plot(rList)\n",
    "plt.show()"
   ]
  },
  {
   "cell_type": "code",
   "execution_count": 33,
   "metadata": {},
   "outputs": [
    {
     "data": {
      "image/png": "[encoded data removed]",
      "text/plain": [
       "<matplotlib.figure.Figure at 0x20bdec61278>"
      ]
     },
     "metadata": {},
     "output_type": "display_data"
    }
   ],
   "source": [
    "plt.plot(jList)\n",
    "plt.show()"
   ]
  },
  {
   "cell_type": "code",
   "execution_count": 15,
   "metadata": {},
   "outputs": [
    {
     "data": {
      "text/plain": [
       "array([[0., 1., 0., 0., 0., 0., 0., 0., 0., 0., 0., 0., 0., 0., 0., 0.],\n",
       "       [0., 0., 1., 0., 0., 0., 0., 0., 0., 0., 0., 0., 0., 0., 0., 0.]])"
      ]
     },
     "execution_count": 15,
     "metadata": {},
     "output_type": "execute_result"
    }
   ],
   "source": [
    "np.identity(n=16)[1:3,:]"
   ]
  },
  {
   "cell_type": "code",
   "execution_count": 19,
   "metadata": {},
   "outputs": [
    {
     "data": {
      "text/plain": [
       "1"
      ]
     },
     "execution_count": 19,
     "metadata": {},
     "output_type": "execute_result"
    }
   ],
   "source": [
    "env.action_space.sample()"
   ]
  },
  {
   "cell_type": "code",
   "execution_count": 26,
   "metadata": {},
   "outputs": [
    {
     "data": {
      "text/plain": [
       "(1, 0.0, False, {'prob': 0.3333333333333333})"
      ]
     },
     "execution_count": 26,
     "metadata": {},
     "output_type": "execute_result"
    }
   ],
   "source": [
    "env.step(1)"
   ]
  },
  {
   "cell_type": "code",
   "execution_count": null,
   "metadata": {},
   "outputs": [],
   "source": []
  }
 ],
 "metadata": {
  "kernelspec": {
   "display_name": "Python 3",
   "language": "python",
   "name": "python3"
  },
  "language_info": {
   "codemirror_mode": {
    "name": "ipython",
    "version": 3
   },
   "file_extension": ".py",
   "mimetype": "text/x-python",
   "name": "python",
   "nbconvert_exporter": "python",
   "pygments_lexer": "ipython3",
   "version": "3.6.4"
  }
 },
 "nbformat": 4,
 "nbformat_minor": 2
}
