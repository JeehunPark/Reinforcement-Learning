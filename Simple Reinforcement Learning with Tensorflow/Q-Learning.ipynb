{
 "cells": [
  {
   "cell_type": "markdown",
   "metadata": {},
   "source": [
    "# Q-Learning"
   ]
  },
  {
   "cell_type": "markdown",
   "metadata": {},
   "source": [
    "관찰을 액션에 직접적으로 매핑하는 함수를 학습하는 정책 경사 방법과 달리, Q-Learning은 각 상태 내에서의 값을 학습하고자 시도하며 그 상태 내에서 특정액션을 취한다. <br>\n",
    "정책 경사 방법과 Q-Learnin 접근법은 궁극적으로는 주어진 환경 아래 지능적인 액션을 취하게 한다는 점에서 동일 하지만 액션에 도달하는 수단이 다르다. <br>\n",
    "Deep Q-Learning은 Q-Learning 알고리즘을 더 크고 복잡하게 구현한 것"
   ]
  },
  {
   "cell_type": "markdown",
   "metadata": {},
   "source": [
    "## Q Table"
   ]
  },
  {
   "cell_type": "code",
   "execution_count": 56,
   "metadata": {},
   "outputs": [],
   "source": [
    "import gym\n",
    "import numpy as np\n",
    "import random\n",
    "import matplotlib.pyplot as plt"
   ]
  },
  {
   "cell_type": "code",
   "execution_count": 69,
   "metadata": {},
   "outputs": [],
   "source": [
    "# FrozenLake 환경 불러오기\n",
    "env = gym.make(\"FrozenLake-v0\")"
   ]
  },
  {
   "cell_type": "code",
   "execution_count": 74,
   "metadata": {},
   "outputs": [],
   "source": [
    "# Q Table 초기화([16, 4], 값은 0)\n",
    "Q = np.zeros([env.observation_space.n, env.action_space.n])\n",
    "# 학습 매개변수 설정\n",
    "lr = .85\n",
    "y = .99\n",
    "num_episodes = 2000\n",
    "\n",
    "# 누적 보상을 담을 리스트 생성\n",
    "reward_his = []\n",
    "\n",
    "for i in range(num_episodes):\n",
    "    # 환경을 리셋하고 첫번째 state획득\n",
    "    s = env.reset()\n",
    "    reward_all = 0\n",
    "    d = False\n",
    "    \n",
    "    # Q Table 학습 알고리즘\n",
    "    for j in range(100):\n",
    "        # Q Table로부터(노이즈와 함께) 그리디하게 액션 선택\n",
    "        a = np.argmax(Q[s, :] + np.random.randn(1, env.action_space.n)*(1./(i+1)))\n",
    "        # 환경으로부터 새로운 상태와 보상을 얻는다.\n",
    "        s1, r, d, _ = env.step(a)\n",
    "        # 새로운 지식을 통해 Q Table 업데이트\n",
    "        Q[s, a] = Q[s, a]+lr*(r+y*np.max(Q[s1, :])-Q[s, a])\n",
    "        reward_all+=r\n",
    "        # 기존의 상태 s를 새로 얻은 상태 s1으로 업데이트\n",
    "        s = s1\n",
    "        if d == True: # 목적지에 도달하면 두번째 for문 탈출\n",
    "            break\n",
    "    reward_his.append(reward_all)"
   ]
  },
  {
   "cell_type": "code",
   "execution_count": 76,
   "metadata": {},
   "outputs": [
    {
     "data": {
      "text/plain": [
       "array([[6.36113307e-03, 7.86712068e-03, 3.96652258e-01, 9.97194650e-03],\n",
       "       [3.14146672e-03, 2.78719762e-03, 2.72995582e-03, 2.61869599e-01],\n",
       "       [5.36970174e-03, 3.62288040e-03, 5.43019038e-03, 2.60667409e-01],\n",
       "       [2.63530739e-03, 1.32747107e-03, 1.39599729e-03, 1.84501943e-01],\n",
       "       [6.33130978e-01, 3.38108438e-03, 3.49727390e-04, 2.84295233e-03],\n",
       "       [0.00000000e+00, 0.00000000e+00, 0.00000000e+00, 0.00000000e+00],\n",
       "       [3.94312470e-02, 1.18429508e-04, 4.74359114e-04, 1.80252052e-05],\n",
       "       [0.00000000e+00, 0.00000000e+00, 0.00000000e+00, 0.00000000e+00],\n",
       "       [0.00000000e+00, 6.41574885e-04, 3.46954978e-04, 8.48121824e-01],\n",
       "       [0.00000000e+00, 4.99988849e-01, 3.04713856e-04, 3.24084645e-04],\n",
       "       [2.87232003e-01, 6.70459321e-04, 4.64388641e-04, 0.00000000e+00],\n",
       "       [0.00000000e+00, 0.00000000e+00, 0.00000000e+00, 0.00000000e+00],\n",
       "       [0.00000000e+00, 0.00000000e+00, 0.00000000e+00, 0.00000000e+00],\n",
       "       [1.65912733e-03, 1.50060817e-02, 9.76106472e-01, 4.98321762e-03],\n",
       "       [0.00000000e+00, 0.00000000e+00, 9.97394163e-01, 0.00000000e+00],\n",
       "       [0.00000000e+00, 0.00000000e+00, 0.00000000e+00, 0.00000000e+00]])"
      ]
     },
     "execution_count": 76,
     "metadata": {},
     "output_type": "execute_result"
    }
   ],
   "source": [
    "Q"
   ]
  },
  {
   "cell_type": "code",
   "execution_count": 75,
   "metadata": {},
   "outputs": [
    {
     "data": {
      "text/plain": [
       "0.492"
      ]
     },
     "execution_count": 75,
     "metadata": {},
     "output_type": "execute_result"
    }
   ],
   "source": [
    "sum(reward_his)/num_episodes"
   ]
  },
  {
   "cell_type": "code",
   "execution_count": null,
   "metadata": {},
   "outputs": [],
   "source": []
  }
 ],
 "metadata": {
  "kernelspec": {
   "display_name": "Python 3",
   "language": "python",
   "name": "python3"
  },
  "language_info": {
   "codemirror_mode": {
    "name": "ipython",
    "version": 3
   },
   "file_extension": ".py",
   "mimetype": "text/x-python",
   "name": "python",
   "nbconvert_exporter": "python",
   "pygments_lexer": "ipython3",
   "version": "3.6.4"
  }
 },
 "nbformat": 4,
 "nbformat_minor": 2
}
